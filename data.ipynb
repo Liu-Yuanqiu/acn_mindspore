{
 "cells": [
  {
   "cell_type": "code",
   "execution_count": null,
   "id": "6aa8aa2d-6e6f-4e68-8ff5-6f8dcb7abc13",
   "metadata": {},
   "outputs": [],
   "source": [
    "import moxing as mox\n",
    "from_path = \"obs://liuyuanqiu-datasets/mscoco/\"\n",
    "to_path = \"./mscoco\"\n",
    "print(\"from path: \", from_path)\n",
    "print(\"to path: \", to_path)\n",
    "mox.file.copy_parallel(from_path, to_path)\n",
    "print(\"copy data finish!\")"
   ]
  }
 ],
 "metadata": {
  "kernelspec": {
   "display_name": "python-3.7.10",
   "language": "python",
   "name": "python-3.7.10"
  },
  "language_info": {
   "codemirror_mode": {
    "name": "ipython",
    "version": 3
   },
   "file_extension": ".py",
   "mimetype": "text/x-python",
   "name": "python",
   "nbconvert_exporter": "python",
   "pygments_lexer": "ipython3",
   "version": "3.7.10"
  }
 },
 "nbformat": 4,
 "nbformat_minor": 5
}
